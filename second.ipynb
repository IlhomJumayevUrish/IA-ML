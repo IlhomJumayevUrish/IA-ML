{
  "nbformat": 4,
  "nbformat_minor": 0,
  "metadata": {
    "colab": {
      "name": "second.ipynb",
      "provenance": [],
      "authorship_tag": "ABX9TyMtNeEs4ttmFWdL7hesH7vp",
      "include_colab_link": true
    },
    "kernelspec": {
      "name": "python3",
      "display_name": "Python 3"
    },
    "language_info": {
      "name": "python"
    },
    "accelerator": "GPU"
  },
  "cells": [
    {
      "cell_type": "markdown",
      "metadata": {
        "id": "view-in-github",
        "colab_type": "text"
      },
      "source": [
        "<a href=\"https://colab.research.google.com/github/IlhomJumayevUrish/IA-ML/blob/lockal/second.ipynb\" target=\"_parent\"><img src=\"https://colab.research.google.com/assets/colab-badge.svg\" alt=\"Open In Colab\"/></a>"
      ]
    },
    {
      "cell_type": "code",
      "execution_count": null,
      "metadata": {
        "id": "v1jYZAepKqpH"
      },
      "outputs": [],
      "source": [
        "print(\"Okay goog\")"
      ]
    },
    {
      "cell_type": "code",
      "source": [
        "print(\"hammaga\")"
      ],
      "metadata": {
        "id": "KBX8ZWcuKy87"
      },
      "execution_count": null,
      "outputs": []
    },
    {
      "cell_type": "code",
      "source": [
        "import numpy as np\n",
        "import pandas as pd \n",
        "import torch\n",
        "torch.cuda.is_available()"
      ],
      "metadata": {
        "id": "S0WRDRnkK6PG"
      },
      "execution_count": null,
      "outputs": []
    },
    {
      "cell_type": "code",
      "source": [
        "! ls"
      ],
      "metadata": {
        "id": "UUPwv8tSMo50"
      },
      "execution_count": null,
      "outputs": []
    }
  ]
}